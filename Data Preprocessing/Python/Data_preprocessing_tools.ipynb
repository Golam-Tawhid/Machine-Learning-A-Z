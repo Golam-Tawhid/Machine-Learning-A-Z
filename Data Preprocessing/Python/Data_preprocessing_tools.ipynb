{
  "cells": [
    {
      "cell_type": "markdown",
      "metadata": {
        "id": "37puETfgRzzg"
      },
      "source": [
        "# Data Preprocessing Tools"
      ]
    },
    {
      "cell_type": "markdown",
      "metadata": {
        "id": "EoRP98MpR-qj"
      },
      "source": [
        "## Importing the libraries"
      ]
    },
    {
      "cell_type": "code",
      "execution_count": null,
      "metadata": {
        "id": "VvJwA26diPIz"
      },
      "outputs": [],
      "source": [
        "import numpy as np\n",
        "import matplotlib.pyplot as plt\n",
        "import pandas as pd"
      ]
    },
    {
      "cell_type": "markdown",
      "metadata": {
        "id": "RopL7tUZSQkT"
      },
      "source": [
        "## Importing the dataset"
      ]
    },
    {
      "cell_type": "code",
      "execution_count": null,
      "metadata": {
        "id": "Lex2UbKGiyGp"
      },
      "outputs": [],
      "source": [
        "dataset = pd.read_csv('Data.csv') #part1 section 2\n",
        "\n",
        "#Extracting the input features (independent variables) from the dataset.\n",
        "#Here, we are using the iloc method to select all rows and all columns except the last one (the target variable).\n",
        "#The .values attribute converts the extracted data into a NumPy array for further processing.\n",
        "x =  dataset.iloc[:, :-1].values\n",
        "\n",
        "# Extracting the target variable (dependent variable) from the dataset.\n",
        "# Here, we are using the iloc method to select all rows and only the last column (the target variable column).\n",
        "# The .values attribute converts the extracted data into a NumPy array for further processing.\n",
        "y =  dataset.iloc[:, -1].values"
      ]
    },
    {
      "cell_type": "code",
      "execution_count": null,
      "metadata": {
        "id": "ieRSswMVN4nC"
      },
      "outputs": [],
      "source": [
        "#or\n",
        "\n",
        "# x = dataset.drop('Purchased', axis=1)\n",
        "#y = dataset['Purchased']"
      ]
    },
    {
      "cell_type": "code",
      "execution_count": null,
      "metadata": {
        "colab": {
          "base_uri": "https://localhost:8080/"
        },
        "id": "r-hTkJVjl3tY",
        "outputId": "d5a7ed5c-f244-4f54-801f-cd1d8022e300"
      },
      "outputs": [
        {
          "name": "stdout",
          "output_type": "stream",
          "text": [
            "[['France' 44.0 72000.0]\n",
            " ['Spain' 27.0 48000.0]\n",
            " ['Germany' 30.0 54000.0]\n",
            " ['Spain' 38.0 61000.0]\n",
            " ['Germany' 40.0 nan]\n",
            " ['France' 35.0 58000.0]\n",
            " ['Spain' nan 52000.0]\n",
            " ['France' 48.0 79000.0]\n",
            " ['Germany' 50.0 83000.0]\n",
            " ['France' 37.0 67000.0]]\n"
          ]
        }
      ],
      "source": [
        "print(x)"
      ]
    },
    {
      "cell_type": "code",
      "execution_count": null,
      "metadata": {
        "colab": {
          "base_uri": "https://localhost:8080/"
        },
        "id": "HbLrbLPQl7TP",
        "outputId": "4c5250ab-fbcc-4449-d74e-20438b9f63ad"
      },
      "outputs": [
        {
          "name": "stdout",
          "output_type": "stream",
          "text": [
            "['No' 'Yes' 'No' 'No' 'Yes' 'Yes' 'No' 'Yes' 'No' 'Yes']\n"
          ]
        }
      ],
      "source": [
        "print(y)"
      ]
    },
    {
      "cell_type": "markdown",
      "metadata": {
        "id": "nhfKXNxlSabC"
      },
      "source": [
        "## Taking care of missing data"
      ]
    },
    {
      "cell_type": "code",
      "execution_count": null,
      "metadata": {
        "id": "87aqwMFiizYu"
      },
      "outputs": [],
      "source": [
        "# Importing the required library for data imputation\n",
        "from sklearn.impute import SimpleImputer\n",
        "\n",
        "# Creating an instance of the SimpleImputer class with specified parameters\n",
        "# - missing_values: The value representing missing data, in this case, NaN (Not a Number)\n",
        "# - strategy: The strategy used for imputation, here it is 'mean', which replaces missing values with the mean of the column\n",
        "imputer = SimpleImputer(missing_values=np.nan, strategy='mean')\n",
        "\n",
        "# Fitting the imputer on the data in the 2nd and 3rd columns of the 'x' array.\n",
        "# The imputer computes the mean of these columns to be used for imputation.\n",
        "imputer.fit(x[:, 1:3])\n",
        "\n",
        "# Using the fitted imputer to transform the data in the 2nd and 3rd columns of the 'x' array.\n",
        "# This replaces the missing values in these columns with their respective column means.\n",
        "x[:, 1:3] = imputer.transform(x[:, 1:3])"
      ]
    },
    {
      "cell_type": "code",
      "execution_count": null,
      "metadata": {
        "colab": {
          "base_uri": "https://localhost:8080/"
        },
        "id": "h8Ydotstsp1X",
        "outputId": "49a427f5-055e-4a4f-b956-c4d088f96896"
      },
      "outputs": [
        {
          "name": "stdout",
          "output_type": "stream",
          "text": [
            "[['France' 44.0 72000.0]\n",
            " ['Spain' 27.0 48000.0]\n",
            " ['Germany' 30.0 54000.0]\n",
            " ['Spain' 38.0 61000.0]\n",
            " ['Germany' 40.0 63777.77777777778]\n",
            " ['France' 35.0 58000.0]\n",
            " ['Spain' 38.77777777777778 52000.0]\n",
            " ['France' 48.0 79000.0]\n",
            " ['Germany' 50.0 83000.0]\n",
            " ['France' 37.0 67000.0]]\n"
          ]
        }
      ],
      "source": [
        "print(x)"
      ]
    },
    {
      "cell_type": "markdown",
      "metadata": {
        "id": "CriG6VzVSjcK"
      },
      "source": [
        "## Encoding categorical data"
      ]
    },
    {
      "cell_type": "markdown",
      "metadata": {
        "id": "AhSpdQWeSsFh"
      },
      "source": [
        "### Encoding the Independent Variable"
      ]
    },
    {
      "cell_type": "code",
      "execution_count": null,
      "metadata": {
        "id": "Pf2TKbab0mOv"
      },
      "outputs": [],
      "source": [
        "# Importing the required libraries for data preprocessing\n",
        "from sklearn.compose import ColumnTransformer\n",
        "from sklearn.preprocessing import OneHotEncoder\n",
        "\n",
        "# Creating a ColumnTransformer 'ct' to apply specific transformations to different columns of the input data 'x'.\n",
        "# Here, we want to apply the OneHotEncoder to the first column ([0]) of the data 'x'.\n",
        "# OneHotEncoder is used to convert categorical variables into numerical representation.\n",
        "# The 'remainder' parameter is set to 'passthrough', which means any columns not specified in the transformers list will be retained as is.\n",
        "ct = ColumnTransformer(transformers=[(\"encoder\", OneHotEncoder(), [0])], remainder='passthrough')\n",
        "\n",
        "# Converting the 'x' DataFrame into a numpy array and simultaneously applying the transformations specified in 'ct'.\n",
        "# The result of the transformation is stored back in 'x'.\n",
        "x = np.array(ct.fit_transform(x))"
      ]
    },
    {
      "cell_type": "code",
      "execution_count": null,
      "metadata": {
        "colab": {
          "base_uri": "https://localhost:8080/"
        },
        "id": "4I1Yvuhq2sUC",
        "outputId": "437dcc12-7e63-4ff9-c987-3ebc823b97fb"
      },
      "outputs": [
        {
          "name": "stdout",
          "output_type": "stream",
          "text": [
            "[[1.0 0.0 0.0 44.0 72000.0]\n",
            " [0.0 0.0 1.0 27.0 48000.0]\n",
            " [0.0 1.0 0.0 30.0 54000.0]\n",
            " [0.0 0.0 1.0 38.0 61000.0]\n",
            " [0.0 1.0 0.0 40.0 63777.77777777778]\n",
            " [1.0 0.0 0.0 35.0 58000.0]\n",
            " [0.0 0.0 1.0 38.77777777777778 52000.0]\n",
            " [1.0 0.0 0.0 48.0 79000.0]\n",
            " [0.0 1.0 0.0 50.0 83000.0]\n",
            " [1.0 0.0 0.0 37.0 67000.0]]\n"
          ]
        }
      ],
      "source": [
        "print(x)"
      ]
    },
    {
      "cell_type": "markdown",
      "metadata": {
        "id": "DXh8oVSITIc6"
      },
      "source": [
        "### Encoding the Dependent Variable"
      ]
    },
    {
      "cell_type": "code",
      "execution_count": null,
      "metadata": {
        "id": "7EhUknnW3efa"
      },
      "outputs": [],
      "source": [
        "# Importing the required library for data preprocessing\n",
        "from sklearn.preprocessing import LabelEncoder\n",
        "\n",
        "# Creating an instance of the LabelEncoder class\n",
        "le = LabelEncoder()\n",
        "\n",
        "# Using the LabelEncoder to transform the 'y' Series, which contains the target variable 'Purchased'.\n",
        "# LabelEncoder is used to convert categorical labels (e.g., 'Purchased' categories) into numerical values.\n",
        "# The 'fit_transform' method both fits the encoder to the data and transforms the data simultaneously.\n",
        "# The transformed 'y' is now represented as numerical values.\n",
        "y = le.fit_transform(y)"
      ]
    },
    {
      "cell_type": "code",
      "execution_count": null,
      "metadata": {
        "colab": {
          "base_uri": "https://localhost:8080/"
        },
        "id": "EE8JE4bp38pN",
        "outputId": "f851e836-2338-446b-ab6d-5ed22cf88d82"
      },
      "outputs": [
        {
          "name": "stdout",
          "output_type": "stream",
          "text": [
            "[0 1 0 0 1 1 0 1 0 1]\n"
          ]
        }
      ],
      "source": [
        "print(y)"
      ]
    },
    {
      "cell_type": "markdown",
      "metadata": {
        "id": "qb_vcgm3qZKW"
      },
      "source": [
        "## Splitting the dataset into the Training set and Test set"
      ]
    },
    {
      "cell_type": "code",
      "execution_count": null,
      "metadata": {
        "id": "aWVE6DKoC3XI"
      },
      "outputs": [],
      "source": [
        "# Importing the required library for splitting the data into training and testing sets\n",
        "from sklearn.model_selection import train_test_split\n",
        "\n",
        "# Splitting the 'x' and 'y' data into training and testing sets.\n",
        "# The 'test_size' parameter is set to 0.2, which means 20% of the data will be used for testing, and the remaining 80% for training.\n",
        "# The 'random_state' parameter is set to 1, which ensures reproducibility of the split, i.e., the same split will be obtained every time the code is run with the same random_state value.\n",
        "x_train, x_test, y_train, y_test = train_test_split(x, y, test_size=0.2, random_state=1)"
      ]
    },
    {
      "cell_type": "code",
      "execution_count": null,
      "metadata": {
        "colab": {
          "base_uri": "https://localhost:8080/"
        },
        "id": "ELUQb2ZDEXZz",
        "outputId": "91872426-08a2-4137-b664-492383228239"
      },
      "outputs": [
        {
          "name": "stdout",
          "output_type": "stream",
          "text": [
            "[[0.0 0.0 1.0 38.77777777777778 52000.0]\n",
            " [0.0 1.0 0.0 40.0 63777.77777777778]\n",
            " [1.0 0.0 0.0 44.0 72000.0]\n",
            " [0.0 0.0 1.0 38.0 61000.0]\n",
            " [0.0 0.0 1.0 27.0 48000.0]\n",
            " [1.0 0.0 0.0 48.0 79000.0]\n",
            " [0.0 1.0 0.0 50.0 83000.0]\n",
            " [1.0 0.0 0.0 35.0 58000.0]]\n"
          ]
        }
      ],
      "source": [
        "print(x_train)"
      ]
    },
    {
      "cell_type": "code",
      "execution_count": null,
      "metadata": {
        "colab": {
          "base_uri": "https://localhost:8080/"
        },
        "id": "g76uDJEnEZle",
        "outputId": "e9f5623c-bfef-4800-9f1f-e0fec4799516"
      },
      "outputs": [
        {
          "name": "stdout",
          "output_type": "stream",
          "text": [
            "[[0.0 1.0 0.0 30.0 54000.0]\n",
            " [1.0 0.0 0.0 37.0 67000.0]]\n"
          ]
        }
      ],
      "source": [
        "print(x_test)"
      ]
    },
    {
      "cell_type": "code",
      "execution_count": null,
      "metadata": {
        "colab": {
          "base_uri": "https://localhost:8080/"
        },
        "id": "RmM6suY7EaCy",
        "outputId": "50008b72-a5c6-4976-fd0d-6e0218e22d36"
      },
      "outputs": [
        {
          "name": "stdout",
          "output_type": "stream",
          "text": [
            "[0 1 0 0 1 1 0 1]\n"
          ]
        }
      ],
      "source": [
        "print(y_train)"
      ]
    },
    {
      "cell_type": "code",
      "execution_count": null,
      "metadata": {
        "colab": {
          "base_uri": "https://localhost:8080/"
        },
        "id": "8jVvVMd4EaqG",
        "outputId": "6466e835-1df6-4b94-bc1e-5c430306b904"
      },
      "outputs": [
        {
          "name": "stdout",
          "output_type": "stream",
          "text": [
            "[0 1]\n"
          ]
        }
      ],
      "source": [
        "print(y_test)"
      ]
    },
    {
      "cell_type": "markdown",
      "metadata": {
        "id": "TpGqbS4TqkIR"
      },
      "source": [
        "## Feature Scaling"
      ]
    },
    {
      "cell_type": "code",
      "execution_count": null,
      "metadata": {
        "id": "pXurDEGaFEIc"
      },
      "outputs": [],
      "source": [
        "# Importing the required library for feature scaling\n",
        "from sklearn.preprocessing import StandardScaler\n",
        "\n",
        "# Creating an instance of the StandardScaler class\n",
        "sc = StandardScaler()\n",
        "\n",
        "# Applying feature scaling on the numeric columns of 'x_train' and 'x_test' arrays\n",
        "# The StandardScaler scales the data to have a mean of 0 and a standard deviation of 1, making the features more comparable and aiding the learning process for some machine learning algorithms.\n",
        "\n",
        "# Scaling the data in the 'x_train' array, starting from the 4th column (index 3) until the end of the array.\n",
        "# This means only the numeric columns (excluding the one-hot encoded columns) will be scaled.\n",
        "x_train[:, 3:] = sc.fit_transform(x_train[:, 3:])\n",
        "\n",
        "# Scaling the data in the 'x_test' array, starting from the 4th column (index 3) until the end of the array.\n",
        "# The 'transform' method is used here because we want to use the same scaling parameters (mean and standard deviation) computed on the 'x_train' data for the 'x_test' data.\n",
        "x_test[:, 3:] = sc.transform(x_test[:, 3:])\n"
      ]
    },
    {
      "cell_type": "code",
      "execution_count": null,
      "metadata": {
        "colab": {
          "base_uri": "https://localhost:8080/"
        },
        "id": "zO9GNQv8DAt_",
        "outputId": "5be2d0ee-4e6f-4144-e1e5-320997fd0afe"
      },
      "outputs": [
        {
          "name": "stdout",
          "output_type": "stream",
          "text": [
            "[[0.0 0.0 1.0 -0.19159184384578545 -1.0781259408412425]\n",
            " [0.0 1.0 0.0 -0.014117293757057777 -0.07013167641635372]\n",
            " [1.0 0.0 0.0 0.566708506533324 0.633562432710455]\n",
            " [0.0 0.0 1.0 -0.30453019390224867 -0.30786617274297867]\n",
            " [0.0 0.0 1.0 -1.9018011447007988 -1.420463615551582]\n",
            " [1.0 0.0 0.0 1.1475343068237058 1.232653363453549]\n",
            " [0.0 1.0 0.0 1.4379472069688968 1.5749910381638885]\n",
            " [1.0 0.0 0.0 -0.7401495441200351 -0.5646194287757332]]\n"
          ]
        }
      ],
      "source": [
        "print(x_train)"
      ]
    },
    {
      "cell_type": "code",
      "execution_count": null,
      "metadata": {
        "colab": {
          "base_uri": "https://localhost:8080/"
        },
        "id": "PFcUMTlODAPc",
        "outputId": "b766d204-8fd0-432b-c6d9-12d52f21c9a7"
      },
      "outputs": [
        {
          "name": "stdout",
          "output_type": "stream",
          "text": [
            "[[0.0 1.0 0.0 -1.4661817944830124 -0.9069571034860727]\n",
            " [1.0 0.0 0.0 -0.44973664397484414 0.2056403393225306]]\n"
          ]
        }
      ],
      "source": [
        "print(x_test)"
      ]
    }
  ],
  "metadata": {
    "colab": {
      "provenance": []
    },
    "kernelspec": {
      "display_name": "Python 3",
      "name": "python3"
    }
  },
  "nbformat": 4,
  "nbformat_minor": 0
}
